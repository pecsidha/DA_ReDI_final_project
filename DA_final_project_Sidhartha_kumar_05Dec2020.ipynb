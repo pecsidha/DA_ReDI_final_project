{
  "nbformat": 4,
  "nbformat_minor": 0,
  "metadata": {
    "colab": {
      "name": "DA_final_project_Sidhartha_kumar_05Dec2020.ipynb",
      "provenance": [],
      "collapsed_sections": []
    },
    "kernelspec": {
      "display_name": "Python 3",
      "name": "python3"
    }
  },
  "cells": [
    {
      "cell_type": "code",
      "metadata": {
        "id": "yPLKJ46A_Ox2"
      },
      "source": [
        "import pandas as pd\n",
        "import numpy as np\n",
        "import matplotlib.pyplot as plt\n",
        "%matplotlib inline\n",
        "import seaborn as sns"
      ],
      "execution_count": 1,
      "outputs": []
    },
    {
      "cell_type": "code",
      "metadata": {
        "id": "Lk9zxnu_Clgw"
      },
      "source": [
        ""
      ],
      "execution_count": 1,
      "outputs": []
    },
    {
      "cell_type": "code",
      "metadata": {
        "colab": {
          "base_uri": "https://localhost:8080/"
        },
        "id": "q0nRMahABag4",
        "outputId": "8db1de05-67b5-4f92-99ec-633a4cc3b660"
      },
      "source": [
        "from google.colab import drive\n",
        "drive.mount('/content/drive')"
      ],
      "execution_count": 2,
      "outputs": [
        {
          "output_type": "stream",
          "text": [
            "Drive already mounted at /content/drive; to attempt to forcibly remount, call drive.mount(\"/content/drive\", force_remount=True).\n"
          ],
          "name": "stdout"
        }
      ]
    },
    {
      "cell_type": "code",
      "metadata": {
        "id": "9O4unq9qDFtv"
      },
      "source": [
        "sales_df = pd.read_csv('/content/drive/MyDrive/orders_2019.csv')"
      ],
      "execution_count": 3,
      "outputs": []
    },
    {
      "cell_type": "code",
      "metadata": {
        "colab": {
          "base_uri": "https://localhost:8080/",
          "height": 195
        },
        "id": "hnRh4WLbBEhq",
        "outputId": "98a8e726-97dc-4f74-e0a1-79803edcd2a1"
      },
      "source": [
        "sales_df.head()"
      ],
      "execution_count": 4,
      "outputs": [
        {
          "output_type": "execute_result",
          "data": {
            "text/html": [
              "<div>\n",
              "<style scoped>\n",
              "    .dataframe tbody tr th:only-of-type {\n",
              "        vertical-align: middle;\n",
              "    }\n",
              "\n",
              "    .dataframe tbody tr th {\n",
              "        vertical-align: top;\n",
              "    }\n",
              "\n",
              "    .dataframe thead th {\n",
              "        text-align: right;\n",
              "    }\n",
              "</style>\n",
              "<table border=\"1\" class=\"dataframe\">\n",
              "  <thead>\n",
              "    <tr style=\"text-align: right;\">\n",
              "      <th></th>\n",
              "      <th>Prodnrkurz</th>\n",
              "      <th>KundenNr</th>\n",
              "      <th>postal code</th>\n",
              "      <th>VersandArt</th>\n",
              "      <th>Geliefert</th>\n",
              "      <th>BestellZeit</th>\n",
              "      <th>BestellTag</th>\n",
              "      <th>Abteilung</th>\n",
              "    </tr>\n",
              "  </thead>\n",
              "  <tbody>\n",
              "    <tr>\n",
              "      <th>0</th>\n",
              "      <td>00553</td>\n",
              "      <td>15210.0</td>\n",
              "      <td>NL 6461 BP</td>\n",
              "      <td>Abholung</td>\n",
              "      <td>1.0</td>\n",
              "      <td>15:31:13</td>\n",
              "      <td>19.12.2018</td>\n",
              "      <td>Export</td>\n",
              "    </tr>\n",
              "    <tr>\n",
              "      <th>1</th>\n",
              "      <td>OL2339</td>\n",
              "      <td>1400012.0</td>\n",
              "      <td>73614</td>\n",
              "      <td>UPS-Standard</td>\n",
              "      <td>1.0</td>\n",
              "      <td>13:11:16</td>\n",
              "      <td>28.12.2018</td>\n",
              "      <td>Einkauf</td>\n",
              "    </tr>\n",
              "    <tr>\n",
              "      <th>2</th>\n",
              "      <td>BW2124</td>\n",
              "      <td>10437.0</td>\n",
              "      <td>25337</td>\n",
              "      <td>Night-Star</td>\n",
              "      <td>1.0</td>\n",
              "      <td>13:54:34</td>\n",
              "      <td>28.12.2018</td>\n",
              "      <td>Webshop</td>\n",
              "    </tr>\n",
              "    <tr>\n",
              "      <th>3</th>\n",
              "      <td>BW2125</td>\n",
              "      <td>10437.0</td>\n",
              "      <td>25337</td>\n",
              "      <td>Night-Star</td>\n",
              "      <td>1.0</td>\n",
              "      <td>13:54:34</td>\n",
              "      <td>28.12.2018</td>\n",
              "      <td>Webshop</td>\n",
              "    </tr>\n",
              "    <tr>\n",
              "      <th>4</th>\n",
              "      <td>vn5335d</td>\n",
              "      <td>14001.0</td>\n",
              "      <td>52068</td>\n",
              "      <td>Abholung</td>\n",
              "      <td>1.0</td>\n",
              "      <td>08:16:26</td>\n",
              "      <td>19.12.2018</td>\n",
              "      <td>Einkauf_Layout</td>\n",
              "    </tr>\n",
              "  </tbody>\n",
              "</table>\n",
              "</div>"
            ],
            "text/plain": [
              "  Prodnrkurz   KundenNr postal code  ... BestellZeit  BestellTag       Abteilung\n",
              "0      00553    15210.0  NL 6461 BP  ...    15:31:13  19.12.2018          Export\n",
              "1     OL2339  1400012.0       73614  ...    13:11:16  28.12.2018         Einkauf\n",
              "2     BW2124    10437.0       25337  ...    13:54:34  28.12.2018         Webshop\n",
              "3     BW2125    10437.0       25337  ...    13:54:34  28.12.2018         Webshop\n",
              "4    vn5335d    14001.0       52068  ...    08:16:26  19.12.2018  Einkauf_Layout\n",
              "\n",
              "[5 rows x 8 columns]"
            ]
          },
          "metadata": {
            "tags": []
          },
          "execution_count": 4
        }
      ]
    },
    {
      "cell_type": "code",
      "metadata": {
        "colab": {
          "base_uri": "https://localhost:8080/",
          "height": 195
        },
        "id": "BjJQIRaoFgJU",
        "outputId": "c3a7d553-f96a-4f54-b39c-de0293b43013"
      },
      "source": [
        "# find the rows with NAN\n",
        "nan_df = sales_df[sales_df.isna().any(axis=1)]\n",
        "nan_df.head()"
      ],
      "execution_count": 5,
      "outputs": [
        {
          "output_type": "execute_result",
          "data": {
            "text/html": [
              "<div>\n",
              "<style scoped>\n",
              "    .dataframe tbody tr th:only-of-type {\n",
              "        vertical-align: middle;\n",
              "    }\n",
              "\n",
              "    .dataframe tbody tr th {\n",
              "        vertical-align: top;\n",
              "    }\n",
              "\n",
              "    .dataframe thead th {\n",
              "        text-align: right;\n",
              "    }\n",
              "</style>\n",
              "<table border=\"1\" class=\"dataframe\">\n",
              "  <thead>\n",
              "    <tr style=\"text-align: right;\">\n",
              "      <th></th>\n",
              "      <th>Prodnrkurz</th>\n",
              "      <th>KundenNr</th>\n",
              "      <th>postal code</th>\n",
              "      <th>VersandArt</th>\n",
              "      <th>Geliefert</th>\n",
              "      <th>BestellZeit</th>\n",
              "      <th>BestellTag</th>\n",
              "      <th>Abteilung</th>\n",
              "    </tr>\n",
              "  </thead>\n",
              "  <tbody>\n",
              "    <tr>\n",
              "      <th>223</th>\n",
              "      <td>JE2023</td>\n",
              "      <td>1400012.0</td>\n",
              "      <td>NaN</td>\n",
              "      <td>Abholung</td>\n",
              "      <td>1.0</td>\n",
              "      <td>09:22:09</td>\n",
              "      <td>04.01.2019</td>\n",
              "      <td>Einkauf</td>\n",
              "    </tr>\n",
              "    <tr>\n",
              "      <th>336</th>\n",
              "      <td>vna6060</td>\n",
              "      <td>1400012.0</td>\n",
              "      <td>NaN</td>\n",
              "      <td>Abholung</td>\n",
              "      <td>1.0</td>\n",
              "      <td>11:11:43</td>\n",
              "      <td>07.01.2019</td>\n",
              "      <td>Einkauf_Layout</td>\n",
              "    </tr>\n",
              "    <tr>\n",
              "      <th>1009</th>\n",
              "      <td>0.999990</td>\n",
              "      <td>1400011.0</td>\n",
              "      <td>NaN</td>\n",
              "      <td>Abholung</td>\n",
              "      <td>1.0</td>\n",
              "      <td>08:46:23</td>\n",
              "      <td>15.01.2019</td>\n",
              "      <td>Einkauf_Layout</td>\n",
              "    </tr>\n",
              "    <tr>\n",
              "      <th>1178</th>\n",
              "      <td>bw2251</td>\n",
              "      <td>1400010.0</td>\n",
              "      <td>NaN</td>\n",
              "      <td>Abholung</td>\n",
              "      <td>1.0</td>\n",
              "      <td>12:47:44</td>\n",
              "      <td>09.01.2019</td>\n",
              "      <td>Einkauf_Layout</td>\n",
              "    </tr>\n",
              "    <tr>\n",
              "      <th>1377</th>\n",
              "      <td>je2037</td>\n",
              "      <td>1400011.0</td>\n",
              "      <td>NaN</td>\n",
              "      <td>Abholung</td>\n",
              "      <td>1.0</td>\n",
              "      <td>15:48:07</td>\n",
              "      <td>16.01.2019</td>\n",
              "      <td>Einkauf_Layout</td>\n",
              "    </tr>\n",
              "  </tbody>\n",
              "</table>\n",
              "</div>"
            ],
            "text/plain": [
              "     Prodnrkurz   KundenNr postal code  ... BestellZeit  BestellTag       Abteilung\n",
              "223      JE2023  1400012.0         NaN  ...    09:22:09  04.01.2019         Einkauf\n",
              "336     vna6060  1400012.0         NaN  ...    11:11:43  07.01.2019  Einkauf_Layout\n",
              "1009   0.999990  1400011.0         NaN  ...    08:46:23  15.01.2019  Einkauf_Layout\n",
              "1178     bw2251  1400010.0         NaN  ...    12:47:44  09.01.2019  Einkauf_Layout\n",
              "1377     je2037  1400011.0         NaN  ...    15:48:07  16.01.2019  Einkauf_Layout\n",
              "\n",
              "[5 rows x 8 columns]"
            ]
          },
          "metadata": {
            "tags": []
          },
          "execution_count": 5
        }
      ]
    },
    {
      "cell_type": "code",
      "metadata": {
        "id": "7xnCPtf5FipM"
      },
      "source": [
        "sales_df.columns = sales_df.columns.str.replace(' ', '') "
      ],
      "execution_count": 6,
      "outputs": []
    },
    {
      "cell_type": "code",
      "metadata": {
        "colab": {
          "base_uri": "https://localhost:8080/",
          "height": 195
        },
        "id": "4AH-dF11FpSb",
        "outputId": "28f6191f-f10f-4691-c0ef-0957e5cdc80a"
      },
      "source": [
        "sales_df = sales_df.dropna(how='all')# remove the rows with NAN\n",
        "sales_df.head()"
      ],
      "execution_count": 7,
      "outputs": [
        {
          "output_type": "execute_result",
          "data": {
            "text/html": [
              "<div>\n",
              "<style scoped>\n",
              "    .dataframe tbody tr th:only-of-type {\n",
              "        vertical-align: middle;\n",
              "    }\n",
              "\n",
              "    .dataframe tbody tr th {\n",
              "        vertical-align: top;\n",
              "    }\n",
              "\n",
              "    .dataframe thead th {\n",
              "        text-align: right;\n",
              "    }\n",
              "</style>\n",
              "<table border=\"1\" class=\"dataframe\">\n",
              "  <thead>\n",
              "    <tr style=\"text-align: right;\">\n",
              "      <th></th>\n",
              "      <th>Prodnrkurz</th>\n",
              "      <th>KundenNr</th>\n",
              "      <th>postalcode</th>\n",
              "      <th>VersandArt</th>\n",
              "      <th>Geliefert</th>\n",
              "      <th>BestellZeit</th>\n",
              "      <th>BestellTag</th>\n",
              "      <th>Abteilung</th>\n",
              "    </tr>\n",
              "  </thead>\n",
              "  <tbody>\n",
              "    <tr>\n",
              "      <th>0</th>\n",
              "      <td>00553</td>\n",
              "      <td>15210.0</td>\n",
              "      <td>NL 6461 BP</td>\n",
              "      <td>Abholung</td>\n",
              "      <td>1.0</td>\n",
              "      <td>15:31:13</td>\n",
              "      <td>19.12.2018</td>\n",
              "      <td>Export</td>\n",
              "    </tr>\n",
              "    <tr>\n",
              "      <th>1</th>\n",
              "      <td>OL2339</td>\n",
              "      <td>1400012.0</td>\n",
              "      <td>73614</td>\n",
              "      <td>UPS-Standard</td>\n",
              "      <td>1.0</td>\n",
              "      <td>13:11:16</td>\n",
              "      <td>28.12.2018</td>\n",
              "      <td>Einkauf</td>\n",
              "    </tr>\n",
              "    <tr>\n",
              "      <th>2</th>\n",
              "      <td>BW2124</td>\n",
              "      <td>10437.0</td>\n",
              "      <td>25337</td>\n",
              "      <td>Night-Star</td>\n",
              "      <td>1.0</td>\n",
              "      <td>13:54:34</td>\n",
              "      <td>28.12.2018</td>\n",
              "      <td>Webshop</td>\n",
              "    </tr>\n",
              "    <tr>\n",
              "      <th>3</th>\n",
              "      <td>BW2125</td>\n",
              "      <td>10437.0</td>\n",
              "      <td>25337</td>\n",
              "      <td>Night-Star</td>\n",
              "      <td>1.0</td>\n",
              "      <td>13:54:34</td>\n",
              "      <td>28.12.2018</td>\n",
              "      <td>Webshop</td>\n",
              "    </tr>\n",
              "    <tr>\n",
              "      <th>4</th>\n",
              "      <td>vn5335d</td>\n",
              "      <td>14001.0</td>\n",
              "      <td>52068</td>\n",
              "      <td>Abholung</td>\n",
              "      <td>1.0</td>\n",
              "      <td>08:16:26</td>\n",
              "      <td>19.12.2018</td>\n",
              "      <td>Einkauf_Layout</td>\n",
              "    </tr>\n",
              "  </tbody>\n",
              "</table>\n",
              "</div>"
            ],
            "text/plain": [
              "  Prodnrkurz   KundenNr  postalcode  ... BestellZeit  BestellTag       Abteilung\n",
              "0      00553    15210.0  NL 6461 BP  ...    15:31:13  19.12.2018          Export\n",
              "1     OL2339  1400012.0       73614  ...    13:11:16  28.12.2018         Einkauf\n",
              "2     BW2124    10437.0       25337  ...    13:54:34  28.12.2018         Webshop\n",
              "3     BW2125    10437.0       25337  ...    13:54:34  28.12.2018         Webshop\n",
              "4    vn5335d    14001.0       52068  ...    08:16:26  19.12.2018  Einkauf_Layout\n",
              "\n",
              "[5 rows x 8 columns]"
            ]
          },
          "metadata": {
            "tags": []
          },
          "execution_count": 7
        }
      ]
    },
    {
      "cell_type": "code",
      "metadata": {
        "id": "As1BhNcPFu0U"
      },
      "source": [
        "sales_df['postalcode'] = sales_df['postalcode'].str.replace(' ', '')"
      ],
      "execution_count": 8,
      "outputs": []
    },
    {
      "cell_type": "code",
      "metadata": {
        "id": "MDf5Q5K8FzV9"
      },
      "source": [
        "sales_df['postalcode'] = sales_df['postalcode'].astype(str)"
      ],
      "execution_count": 9,
      "outputs": []
    },
    {
      "cell_type": "code",
      "metadata": {
        "id": "lTU__jEubBMY"
      },
      "source": [
        "sales_df['KundenNr'] = sales_df['KundenNr'].astype(str)"
      ],
      "execution_count": 10,
      "outputs": []
    },
    {
      "cell_type": "code",
      "metadata": {
        "colab": {
          "base_uri": "https://localhost:8080/",
          "height": 195
        },
        "id": "y8wqieH_F300",
        "outputId": "d069b061-ac90-4928-fa3f-cd773ba6c478"
      },
      "source": [
        "### Check if there is NAN still\n",
        "sales_df[sales_df.isna().any(axis=1)]\n",
        "sales_df.head()"
      ],
      "execution_count": 11,
      "outputs": [
        {
          "output_type": "execute_result",
          "data": {
            "text/html": [
              "<div>\n",
              "<style scoped>\n",
              "    .dataframe tbody tr th:only-of-type {\n",
              "        vertical-align: middle;\n",
              "    }\n",
              "\n",
              "    .dataframe tbody tr th {\n",
              "        vertical-align: top;\n",
              "    }\n",
              "\n",
              "    .dataframe thead th {\n",
              "        text-align: right;\n",
              "    }\n",
              "</style>\n",
              "<table border=\"1\" class=\"dataframe\">\n",
              "  <thead>\n",
              "    <tr style=\"text-align: right;\">\n",
              "      <th></th>\n",
              "      <th>Prodnrkurz</th>\n",
              "      <th>KundenNr</th>\n",
              "      <th>postalcode</th>\n",
              "      <th>VersandArt</th>\n",
              "      <th>Geliefert</th>\n",
              "      <th>BestellZeit</th>\n",
              "      <th>BestellTag</th>\n",
              "      <th>Abteilung</th>\n",
              "    </tr>\n",
              "  </thead>\n",
              "  <tbody>\n",
              "    <tr>\n",
              "      <th>0</th>\n",
              "      <td>00553</td>\n",
              "      <td>15210.0</td>\n",
              "      <td>NL6461BP</td>\n",
              "      <td>Abholung</td>\n",
              "      <td>1.0</td>\n",
              "      <td>15:31:13</td>\n",
              "      <td>19.12.2018</td>\n",
              "      <td>Export</td>\n",
              "    </tr>\n",
              "    <tr>\n",
              "      <th>1</th>\n",
              "      <td>OL2339</td>\n",
              "      <td>1400012.0</td>\n",
              "      <td>73614</td>\n",
              "      <td>UPS-Standard</td>\n",
              "      <td>1.0</td>\n",
              "      <td>13:11:16</td>\n",
              "      <td>28.12.2018</td>\n",
              "      <td>Einkauf</td>\n",
              "    </tr>\n",
              "    <tr>\n",
              "      <th>2</th>\n",
              "      <td>BW2124</td>\n",
              "      <td>10437.0</td>\n",
              "      <td>25337</td>\n",
              "      <td>Night-Star</td>\n",
              "      <td>1.0</td>\n",
              "      <td>13:54:34</td>\n",
              "      <td>28.12.2018</td>\n",
              "      <td>Webshop</td>\n",
              "    </tr>\n",
              "    <tr>\n",
              "      <th>3</th>\n",
              "      <td>BW2125</td>\n",
              "      <td>10437.0</td>\n",
              "      <td>25337</td>\n",
              "      <td>Night-Star</td>\n",
              "      <td>1.0</td>\n",
              "      <td>13:54:34</td>\n",
              "      <td>28.12.2018</td>\n",
              "      <td>Webshop</td>\n",
              "    </tr>\n",
              "    <tr>\n",
              "      <th>4</th>\n",
              "      <td>vn5335d</td>\n",
              "      <td>14001.0</td>\n",
              "      <td>52068</td>\n",
              "      <td>Abholung</td>\n",
              "      <td>1.0</td>\n",
              "      <td>08:16:26</td>\n",
              "      <td>19.12.2018</td>\n",
              "      <td>Einkauf_Layout</td>\n",
              "    </tr>\n",
              "  </tbody>\n",
              "</table>\n",
              "</div>"
            ],
            "text/plain": [
              "  Prodnrkurz   KundenNr postalcode  ... BestellZeit  BestellTag       Abteilung\n",
              "0      00553    15210.0   NL6461BP  ...    15:31:13  19.12.2018          Export\n",
              "1     OL2339  1400012.0      73614  ...    13:11:16  28.12.2018         Einkauf\n",
              "2     BW2124    10437.0      25337  ...    13:54:34  28.12.2018         Webshop\n",
              "3     BW2125    10437.0      25337  ...    13:54:34  28.12.2018         Webshop\n",
              "4    vn5335d    14001.0      52068  ...    08:16:26  19.12.2018  Einkauf_Layout\n",
              "\n",
              "[5 rows x 8 columns]"
            ]
          },
          "metadata": {
            "tags": []
          },
          "execution_count": 11
        }
      ]
    },
    {
      "cell_type": "code",
      "metadata": {
        "id": "B7OsyQfrF4st"
      },
      "source": [
        "new_date_format = sales_df.BestellTag.str.replace('/','-')"
      ],
      "execution_count": 12,
      "outputs": []
    },
    {
      "cell_type": "code",
      "metadata": {
        "id": "Bgd55_g4GG4W"
      },
      "source": [
        "sales_df['new_date'] = pd.to_datetime(new_date_format)"
      ],
      "execution_count": 13,
      "outputs": []
    },
    {
      "cell_type": "code",
      "metadata": {
        "colab": {
          "base_uri": "https://localhost:8080/"
        },
        "id": "ZTO9WUgHGK8k",
        "outputId": "0953ab99-8aa2-41ae-e5c0-8924d8e3a3c9"
      },
      "source": [
        "sales_df.dtypes"
      ],
      "execution_count": 14,
      "outputs": [
        {
          "output_type": "execute_result",
          "data": {
            "text/plain": [
              "Prodnrkurz             object\n",
              "KundenNr               object\n",
              "postalcode             object\n",
              "VersandArt             object\n",
              "Geliefert             float64\n",
              "BestellZeit            object\n",
              "BestellTag             object\n",
              "Abteilung              object\n",
              "new_date       datetime64[ns]\n",
              "dtype: object"
            ]
          },
          "metadata": {
            "tags": []
          },
          "execution_count": 14
        }
      ]
    },
    {
      "cell_type": "code",
      "metadata": {
        "id": "W-kxdRFNGc42"
      },
      "source": [
        "sales_df.set_index('new_date', inplace = True)"
      ],
      "execution_count": 15,
      "outputs": []
    },
    {
      "cell_type": "code",
      "metadata": {
        "colab": {
          "base_uri": "https://localhost:8080/",
          "height": 225
        },
        "id": "LUPatd9GGn_O",
        "outputId": "b79df4d0-9534-4c60-9106-8de5e90cf6c3"
      },
      "source": [
        "sales_df.head()"
      ],
      "execution_count": 16,
      "outputs": [
        {
          "output_type": "execute_result",
          "data": {
            "text/html": [
              "<div>\n",
              "<style scoped>\n",
              "    .dataframe tbody tr th:only-of-type {\n",
              "        vertical-align: middle;\n",
              "    }\n",
              "\n",
              "    .dataframe tbody tr th {\n",
              "        vertical-align: top;\n",
              "    }\n",
              "\n",
              "    .dataframe thead th {\n",
              "        text-align: right;\n",
              "    }\n",
              "</style>\n",
              "<table border=\"1\" class=\"dataframe\">\n",
              "  <thead>\n",
              "    <tr style=\"text-align: right;\">\n",
              "      <th></th>\n",
              "      <th>Prodnrkurz</th>\n",
              "      <th>KundenNr</th>\n",
              "      <th>postalcode</th>\n",
              "      <th>VersandArt</th>\n",
              "      <th>Geliefert</th>\n",
              "      <th>BestellZeit</th>\n",
              "      <th>BestellTag</th>\n",
              "      <th>Abteilung</th>\n",
              "    </tr>\n",
              "    <tr>\n",
              "      <th>new_date</th>\n",
              "      <th></th>\n",
              "      <th></th>\n",
              "      <th></th>\n",
              "      <th></th>\n",
              "      <th></th>\n",
              "      <th></th>\n",
              "      <th></th>\n",
              "      <th></th>\n",
              "    </tr>\n",
              "  </thead>\n",
              "  <tbody>\n",
              "    <tr>\n",
              "      <th>2018-12-19</th>\n",
              "      <td>00553</td>\n",
              "      <td>15210.0</td>\n",
              "      <td>NL6461BP</td>\n",
              "      <td>Abholung</td>\n",
              "      <td>1.0</td>\n",
              "      <td>15:31:13</td>\n",
              "      <td>19.12.2018</td>\n",
              "      <td>Export</td>\n",
              "    </tr>\n",
              "    <tr>\n",
              "      <th>2018-12-28</th>\n",
              "      <td>OL2339</td>\n",
              "      <td>1400012.0</td>\n",
              "      <td>73614</td>\n",
              "      <td>UPS-Standard</td>\n",
              "      <td>1.0</td>\n",
              "      <td>13:11:16</td>\n",
              "      <td>28.12.2018</td>\n",
              "      <td>Einkauf</td>\n",
              "    </tr>\n",
              "    <tr>\n",
              "      <th>2018-12-28</th>\n",
              "      <td>BW2124</td>\n",
              "      <td>10437.0</td>\n",
              "      <td>25337</td>\n",
              "      <td>Night-Star</td>\n",
              "      <td>1.0</td>\n",
              "      <td>13:54:34</td>\n",
              "      <td>28.12.2018</td>\n",
              "      <td>Webshop</td>\n",
              "    </tr>\n",
              "    <tr>\n",
              "      <th>2018-12-28</th>\n",
              "      <td>BW2125</td>\n",
              "      <td>10437.0</td>\n",
              "      <td>25337</td>\n",
              "      <td>Night-Star</td>\n",
              "      <td>1.0</td>\n",
              "      <td>13:54:34</td>\n",
              "      <td>28.12.2018</td>\n",
              "      <td>Webshop</td>\n",
              "    </tr>\n",
              "    <tr>\n",
              "      <th>2018-12-19</th>\n",
              "      <td>vn5335d</td>\n",
              "      <td>14001.0</td>\n",
              "      <td>52068</td>\n",
              "      <td>Abholung</td>\n",
              "      <td>1.0</td>\n",
              "      <td>08:16:26</td>\n",
              "      <td>19.12.2018</td>\n",
              "      <td>Einkauf_Layout</td>\n",
              "    </tr>\n",
              "  </tbody>\n",
              "</table>\n",
              "</div>"
            ],
            "text/plain": [
              "           Prodnrkurz   KundenNr  ...  BestellTag       Abteilung\n",
              "new_date                          ...                            \n",
              "2018-12-19      00553    15210.0  ...  19.12.2018          Export\n",
              "2018-12-28     OL2339  1400012.0  ...  28.12.2018         Einkauf\n",
              "2018-12-28     BW2124    10437.0  ...  28.12.2018         Webshop\n",
              "2018-12-28     BW2125    10437.0  ...  28.12.2018         Webshop\n",
              "2018-12-19    vn5335d    14001.0  ...  19.12.2018  Einkauf_Layout\n",
              "\n",
              "[5 rows x 8 columns]"
            ]
          },
          "metadata": {
            "tags": []
          },
          "execution_count": 16
        }
      ]
    },
    {
      "cell_type": "code",
      "metadata": {
        "colab": {
          "base_uri": "https://localhost:8080/",
          "height": 225
        },
        "id": "ck--LFJ6GPfX",
        "outputId": "537a37a6-4875-4c92-f45a-9e4cbfb1a459"
      },
      "source": [
        "sales_df['month'] = sales_df.index.month\n",
        "sales_df['year'] = sales_df.index.year\n",
        "sales_df.head()"
      ],
      "execution_count": 17,
      "outputs": [
        {
          "output_type": "execute_result",
          "data": {
            "text/html": [
              "<div>\n",
              "<style scoped>\n",
              "    .dataframe tbody tr th:only-of-type {\n",
              "        vertical-align: middle;\n",
              "    }\n",
              "\n",
              "    .dataframe tbody tr th {\n",
              "        vertical-align: top;\n",
              "    }\n",
              "\n",
              "    .dataframe thead th {\n",
              "        text-align: right;\n",
              "    }\n",
              "</style>\n",
              "<table border=\"1\" class=\"dataframe\">\n",
              "  <thead>\n",
              "    <tr style=\"text-align: right;\">\n",
              "      <th></th>\n",
              "      <th>Prodnrkurz</th>\n",
              "      <th>KundenNr</th>\n",
              "      <th>postalcode</th>\n",
              "      <th>VersandArt</th>\n",
              "      <th>Geliefert</th>\n",
              "      <th>BestellZeit</th>\n",
              "      <th>BestellTag</th>\n",
              "      <th>Abteilung</th>\n",
              "      <th>month</th>\n",
              "      <th>year</th>\n",
              "    </tr>\n",
              "    <tr>\n",
              "      <th>new_date</th>\n",
              "      <th></th>\n",
              "      <th></th>\n",
              "      <th></th>\n",
              "      <th></th>\n",
              "      <th></th>\n",
              "      <th></th>\n",
              "      <th></th>\n",
              "      <th></th>\n",
              "      <th></th>\n",
              "      <th></th>\n",
              "    </tr>\n",
              "  </thead>\n",
              "  <tbody>\n",
              "    <tr>\n",
              "      <th>2018-12-19</th>\n",
              "      <td>00553</td>\n",
              "      <td>15210.0</td>\n",
              "      <td>NL6461BP</td>\n",
              "      <td>Abholung</td>\n",
              "      <td>1.0</td>\n",
              "      <td>15:31:13</td>\n",
              "      <td>19.12.2018</td>\n",
              "      <td>Export</td>\n",
              "      <td>12</td>\n",
              "      <td>2018</td>\n",
              "    </tr>\n",
              "    <tr>\n",
              "      <th>2018-12-28</th>\n",
              "      <td>OL2339</td>\n",
              "      <td>1400012.0</td>\n",
              "      <td>73614</td>\n",
              "      <td>UPS-Standard</td>\n",
              "      <td>1.0</td>\n",
              "      <td>13:11:16</td>\n",
              "      <td>28.12.2018</td>\n",
              "      <td>Einkauf</td>\n",
              "      <td>12</td>\n",
              "      <td>2018</td>\n",
              "    </tr>\n",
              "    <tr>\n",
              "      <th>2018-12-28</th>\n",
              "      <td>BW2124</td>\n",
              "      <td>10437.0</td>\n",
              "      <td>25337</td>\n",
              "      <td>Night-Star</td>\n",
              "      <td>1.0</td>\n",
              "      <td>13:54:34</td>\n",
              "      <td>28.12.2018</td>\n",
              "      <td>Webshop</td>\n",
              "      <td>12</td>\n",
              "      <td>2018</td>\n",
              "    </tr>\n",
              "    <tr>\n",
              "      <th>2018-12-28</th>\n",
              "      <td>BW2125</td>\n",
              "      <td>10437.0</td>\n",
              "      <td>25337</td>\n",
              "      <td>Night-Star</td>\n",
              "      <td>1.0</td>\n",
              "      <td>13:54:34</td>\n",
              "      <td>28.12.2018</td>\n",
              "      <td>Webshop</td>\n",
              "      <td>12</td>\n",
              "      <td>2018</td>\n",
              "    </tr>\n",
              "    <tr>\n",
              "      <th>2018-12-19</th>\n",
              "      <td>vn5335d</td>\n",
              "      <td>14001.0</td>\n",
              "      <td>52068</td>\n",
              "      <td>Abholung</td>\n",
              "      <td>1.0</td>\n",
              "      <td>08:16:26</td>\n",
              "      <td>19.12.2018</td>\n",
              "      <td>Einkauf_Layout</td>\n",
              "      <td>12</td>\n",
              "      <td>2018</td>\n",
              "    </tr>\n",
              "  </tbody>\n",
              "</table>\n",
              "</div>"
            ],
            "text/plain": [
              "           Prodnrkurz   KundenNr postalcode  ...       Abteilung  month  year\n",
              "new_date                                     ...                             \n",
              "2018-12-19      00553    15210.0   NL6461BP  ...          Export     12  2018\n",
              "2018-12-28     OL2339  1400012.0      73614  ...         Einkauf     12  2018\n",
              "2018-12-28     BW2124    10437.0      25337  ...         Webshop     12  2018\n",
              "2018-12-28     BW2125    10437.0      25337  ...         Webshop     12  2018\n",
              "2018-12-19    vn5335d    14001.0      52068  ...  Einkauf_Layout     12  2018\n",
              "\n",
              "[5 rows x 10 columns]"
            ]
          },
          "metadata": {
            "tags": []
          },
          "execution_count": 17
        }
      ]
    },
    {
      "cell_type": "code",
      "metadata": {
        "colab": {
          "base_uri": "https://localhost:8080/",
          "height": 500
        },
        "id": "d3_1ouKyG6PU",
        "outputId": "70f0b93e-bbbd-48c7-fd23-863919c2a508"
      },
      "source": [
        "plt.figure(figsize=(16, 8))\n",
        "sales_df['month'].value_counts().plot(kind='bar')\n",
        "plt.ylabel('no. of quanity sold')\n",
        "plt.xlabel('Months')\n",
        "plt.show()"
      ],
      "execution_count": 18,
      "outputs": [
        {
          "output_type": "display_data",
          "data": {
            "image/png": "[encoded data removed]",
            "text/plain": [
              "<Figure size 1152x576 with 1 Axes>"
            ]
          },
          "metadata": {
            "tags": [],
            "needs_background": "light"
          }
        }
      ]
    },
    {
      "cell_type": "code",
      "metadata": {
        "colab": {
          "base_uri": "https://localhost:8080/",
          "height": 330
        },
        "id": "uwFDyeqf6dIb",
        "outputId": "8e2b6ef6-df74-4c6e-cd6c-2921865630be"
      },
      "source": [
        "sns.histplot(sales_df['month'].value_counts())\n",
        "plt.tight_layout()\n",
        "plt.figure(figsize=(15,8))"
      ],
      "execution_count": 19,
      "outputs": [
        {
          "output_type": "execute_result",
          "data": {
            "text/plain": [
              "<Figure size 1080x576 with 0 Axes>"
            ]
          },
          "metadata": {
            "tags": []
          },
          "execution_count": 19
        },
        {
          "output_type": "display_data",
          "data": {
            "image/png": "[encoded data removed]",
            "text/plain": [
              "<Figure size 432x288 with 1 Axes>"
            ]
          },
          "metadata": {
            "tags": [],
            "needs_background": "light"
          }
        },
        {
          "output_type": "display_data",
          "data": {
            "text/plain": [
              "<Figure size 1080x576 with 0 Axes>"
            ]
          },
          "metadata": {
            "tags": []
          }
        }
      ]
    },
    {
      "cell_type": "code",
      "metadata": {
        "colab": {
          "base_uri": "https://localhost:8080/",
          "height": 281
        },
        "id": "cLob0GRjG-p0",
        "outputId": "46ed349a-efde-4c92-aea7-ee631f95e4f2"
      },
      "source": [
        "sales_df['year'].value_counts().plot(kind='bar')\n",
        "plt.show()"
      ],
      "execution_count": 20,
      "outputs": [
        {
          "output_type": "display_data",
          "data": {
            "image/png": "[encoded data removed]",
            "text/plain": [
              "<Figure size 432x288 with 1 Axes>"
            ]
          },
          "metadata": {
            "tags": [],
            "needs_background": "light"
          }
        }
      ]
    },
    {
      "cell_type": "code",
      "metadata": {
        "colab": {
          "base_uri": "https://localhost:8080/"
        },
        "id": "i8GACZI9HCRw",
        "outputId": "cdfad565-1346-4aaf-81a6-1620442b157a"
      },
      "source": [
        "sales_df.Prodnrkurz.nunique()"
      ],
      "execution_count": 21,
      "outputs": [
        {
          "output_type": "execute_result",
          "data": {
            "text/plain": [
              "7069"
            ]
          },
          "metadata": {
            "tags": []
          },
          "execution_count": 21
        }
      ]
    },
    {
      "cell_type": "code",
      "metadata": {
        "colab": {
          "base_uri": "https://localhost:8080/"
        },
        "id": "J1yTGNDJHEMb",
        "outputId": "866feac2-6965-4dd4-9e88-7c4f877b2454"
      },
      "source": [
        "sales_df.KundenNr.nunique()"
      ],
      "execution_count": 22,
      "outputs": [
        {
          "output_type": "execute_result",
          "data": {
            "text/plain": [
              "567"
            ]
          },
          "metadata": {
            "tags": []
          },
          "execution_count": 22
        }
      ]
    },
    {
      "cell_type": "code",
      "metadata": {
        "colab": {
          "base_uri": "https://localhost:8080/"
        },
        "id": "WaPDTS7yHISM",
        "outputId": "6267638e-940d-49e8-ac08-95937af99f5f"
      },
      "source": [
        "sales_df.postalcode.nunique()"
      ],
      "execution_count": 23,
      "outputs": [
        {
          "output_type": "execute_result",
          "data": {
            "text/plain": [
              "1648"
            ]
          },
          "metadata": {
            "tags": []
          },
          "execution_count": 23
        }
      ]
    },
    {
      "cell_type": "code",
      "metadata": {
        "colab": {
          "base_uri": "https://localhost:8080/"
        },
        "id": "y35RQ1NlHM5Y",
        "outputId": "dc2c1900-c8a5-4a51-ffa6-0c2a807896dc"
      },
      "source": [
        "sales_df.Abteilung.nunique()"
      ],
      "execution_count": 24,
      "outputs": [
        {
          "output_type": "execute_result",
          "data": {
            "text/plain": [
              "10"
            ]
          },
          "metadata": {
            "tags": []
          },
          "execution_count": 24
        }
      ]
    },
    {
      "cell_type": "code",
      "metadata": {
        "colab": {
          "base_uri": "https://localhost:8080/",
          "height": 266
        },
        "id": "4j1rie8dHXGb",
        "outputId": "cc9ac91f-218d-4fdb-9bd9-f7194c5c5dc2"
      },
      "source": [
        "plt.hist(sales_df.Abteilung)\n",
        "plt.show()"
      ],
      "execution_count": 25,
      "outputs": [
        {
          "output_type": "display_data",
          "data": {
            "image/png": "[encoded data removed]",
            "text/plain": [
              "<Figure size 432x288 with 1 Axes>"
            ]
          },
          "metadata": {
            "tags": [],
            "needs_background": "light"
          }
        }
      ]
    },
    {
      "cell_type": "code",
      "metadata": {
        "id": "vb6rYae5ISvE"
      },
      "source": [
        "sns.set_theme()"
      ],
      "execution_count": 26,
      "outputs": []
    },
    {
      "cell_type": "code",
      "metadata": {
        "colab": {
          "base_uri": "https://localhost:8080/",
          "height": 326
        },
        "id": "9agLaEmnHyxz",
        "outputId": "9a688752-ad58-44a8-9f4b-ed7fc658a6da"
      },
      "source": [
        "sns.histplot(sales_df['Abteilung'])\n",
        "plt.tight_layout()\n",
        "plt.figure(figsize=(15,8))"
      ],
      "execution_count": 27,
      "outputs": [
        {
          "output_type": "execute_result",
          "data": {
            "text/plain": [
              "<Figure size 1080x576 with 0 Axes>"
            ]
          },
          "metadata": {
            "tags": []
          },
          "execution_count": 27
        },
        {
          "output_type": "display_data",
          "data": {
            "image/png": "[encoded data removed]",
            "text/plain": [
              "<Figure size 432x288 with 1 Axes>"
            ]
          },
          "metadata": {
            "tags": []
          }
        },
        {
          "output_type": "display_data",
          "data": {
            "text/plain": [
              "<Figure size 1080x576 with 0 Axes>"
            ]
          },
          "metadata": {
            "tags": []
          }
        }
      ]
    },
    {
      "cell_type": "code",
      "metadata": {
        "colab": {
          "base_uri": "https://localhost:8080/",
          "height": 520
        },
        "id": "27IQzvygL7Xc",
        "outputId": "dc8567d1-e46e-47e2-a98f-e1c5fdb6b152"
      },
      "source": [
        "plt.figure(figsize=(16, 8))\n",
        "sns.countplot(x='Abteilung', data = sales_df)\n"
      ],
      "execution_count": 28,
      "outputs": [
        {
          "output_type": "execute_result",
          "data": {
            "text/plain": [
              "<matplotlib.axes._subplots.AxesSubplot at 0x7f2200e1f470>"
            ]
          },
          "metadata": {
            "tags": []
          },
          "execution_count": 28
        },
        {
          "output_type": "display_data",
          "data": {
            "image/png": "[encoded data removed]",
            "text/plain": [
              "<Figure size 1152x576 with 1 Axes>"
            ]
          },
          "metadata": {
            "tags": []
          }
        }
      ]
    },
    {
      "cell_type": "code",
      "metadata": {
        "colab": {
          "base_uri": "https://localhost:8080/",
          "height": 225
        },
        "id": "2KrH-IzCPvD6",
        "outputId": "753fceb0-0f56-4d73-df4f-481ae52c1cb4"
      },
      "source": [
        "sales_df.head()"
      ],
      "execution_count": 29,
      "outputs": [
        {
          "output_type": "execute_result",
          "data": {
            "text/html": [
              "<div>\n",
              "<style scoped>\n",
              "    .dataframe tbody tr th:only-of-type {\n",
              "        vertical-align: middle;\n",
              "    }\n",
              "\n",
              "    .dataframe tbody tr th {\n",
              "        vertical-align: top;\n",
              "    }\n",
              "\n",
              "    .dataframe thead th {\n",
              "        text-align: right;\n",
              "    }\n",
              "</style>\n",
              "<table border=\"1\" class=\"dataframe\">\n",
              "  <thead>\n",
              "    <tr style=\"text-align: right;\">\n",
              "      <th></th>\n",
              "      <th>Prodnrkurz</th>\n",
              "      <th>KundenNr</th>\n",
              "      <th>postalcode</th>\n",
              "      <th>VersandArt</th>\n",
              "      <th>Geliefert</th>\n",
              "      <th>BestellZeit</th>\n",
              "      <th>BestellTag</th>\n",
              "      <th>Abteilung</th>\n",
              "      <th>month</th>\n",
              "      <th>year</th>\n",
              "    </tr>\n",
              "    <tr>\n",
              "      <th>new_date</th>\n",
              "      <th></th>\n",
              "      <th></th>\n",
              "      <th></th>\n",
              "      <th></th>\n",
              "      <th></th>\n",
              "      <th></th>\n",
              "      <th></th>\n",
              "      <th></th>\n",
              "      <th></th>\n",
              "      <th></th>\n",
              "    </tr>\n",
              "  </thead>\n",
              "  <tbody>\n",
              "    <tr>\n",
              "      <th>2018-12-19</th>\n",
              "      <td>00553</td>\n",
              "      <td>15210.0</td>\n",
              "      <td>NL6461BP</td>\n",
              "      <td>Abholung</td>\n",
              "      <td>1.0</td>\n",
              "      <td>15:31:13</td>\n",
              "      <td>19.12.2018</td>\n",
              "      <td>Export</td>\n",
              "      <td>12</td>\n",
              "      <td>2018</td>\n",
              "    </tr>\n",
              "    <tr>\n",
              "      <th>2018-12-28</th>\n",
              "      <td>OL2339</td>\n",
              "      <td>1400012.0</td>\n",
              "      <td>73614</td>\n",
              "      <td>UPS-Standard</td>\n",
              "      <td>1.0</td>\n",
              "      <td>13:11:16</td>\n",
              "      <td>28.12.2018</td>\n",
              "      <td>Einkauf</td>\n",
              "      <td>12</td>\n",
              "      <td>2018</td>\n",
              "    </tr>\n",
              "    <tr>\n",
              "      <th>2018-12-28</th>\n",
              "      <td>BW2124</td>\n",
              "      <td>10437.0</td>\n",
              "      <td>25337</td>\n",
              "      <td>Night-Star</td>\n",
              "      <td>1.0</td>\n",
              "      <td>13:54:34</td>\n",
              "      <td>28.12.2018</td>\n",
              "      <td>Webshop</td>\n",
              "      <td>12</td>\n",
              "      <td>2018</td>\n",
              "    </tr>\n",
              "    <tr>\n",
              "      <th>2018-12-28</th>\n",
              "      <td>BW2125</td>\n",
              "      <td>10437.0</td>\n",
              "      <td>25337</td>\n",
              "      <td>Night-Star</td>\n",
              "      <td>1.0</td>\n",
              "      <td>13:54:34</td>\n",
              "      <td>28.12.2018</td>\n",
              "      <td>Webshop</td>\n",
              "      <td>12</td>\n",
              "      <td>2018</td>\n",
              "    </tr>\n",
              "    <tr>\n",
              "      <th>2018-12-19</th>\n",
              "      <td>vn5335d</td>\n",
              "      <td>14001.0</td>\n",
              "      <td>52068</td>\n",
              "      <td>Abholung</td>\n",
              "      <td>1.0</td>\n",
              "      <td>08:16:26</td>\n",
              "      <td>19.12.2018</td>\n",
              "      <td>Einkauf_Layout</td>\n",
              "      <td>12</td>\n",
              "      <td>2018</td>\n",
              "    </tr>\n",
              "  </tbody>\n",
              "</table>\n",
              "</div>"
            ],
            "text/plain": [
              "           Prodnrkurz   KundenNr postalcode  ...       Abteilung  month  year\n",
              "new_date                                     ...                             \n",
              "2018-12-19      00553    15210.0   NL6461BP  ...          Export     12  2018\n",
              "2018-12-28     OL2339  1400012.0      73614  ...         Einkauf     12  2018\n",
              "2018-12-28     BW2124    10437.0      25337  ...         Webshop     12  2018\n",
              "2018-12-28     BW2125    10437.0      25337  ...         Webshop     12  2018\n",
              "2018-12-19    vn5335d    14001.0      52068  ...  Einkauf_Layout     12  2018\n",
              "\n",
              "[5 rows x 10 columns]"
            ]
          },
          "metadata": {
            "tags": []
          },
          "execution_count": 29
        }
      ]
    },
    {
      "cell_type": "code",
      "metadata": {
        "colab": {
          "base_uri": "https://localhost:8080/",
          "height": 628
        },
        "id": "8-MvT_BDiTE8",
        "outputId": "5760440b-9d90-4b61-f12b-b2a9f80e796e"
      },
      "source": [
        "\n",
        "plt.figure(figsize=(22, 10))\n",
        "sns.countplot(x='VersandArt', data = sales_df)"
      ],
      "execution_count": 30,
      "outputs": [
        {
          "output_type": "execute_result",
          "data": {
            "text/plain": [
              "<matplotlib.axes._subplots.AxesSubplot at 0x7f2203b9e7b8>"
            ]
          },
          "metadata": {
            "tags": []
          },
          "execution_count": 30
        },
        {
          "output_type": "display_data",
          "data": {
            "image/png": "[encoded data removed]",
            "text/plain": [
              "<Figure size 1584x720 with 1 Axes>"
            ]
          },
          "metadata": {
            "tags": []
          }
        }
      ]
    },
    {
      "cell_type": "code",
      "metadata": {
        "colab": {
          "base_uri": "https://localhost:8080/",
          "height": 628
        },
        "id": "QGMqK0Kj-dPh",
        "outputId": "64dba705-8aaf-4e64-96c5-6ead0846d488"
      },
      "source": [
        "plt.figure(figsize=(22, 10))\n",
        "sns.countplot(x='KundenNr', order = sales_df.value_counts(sales_df['KundenNr']).iloc[:10].index, data = sales_df)"
      ],
      "execution_count": 31,
      "outputs": [
        {
          "output_type": "execute_result",
          "data": {
            "text/plain": [
              "<matplotlib.axes._subplots.AxesSubplot at 0x7f22104053c8>"
            ]
          },
          "metadata": {
            "tags": []
          },
          "execution_count": 31
        },
        {
          "output_type": "display_data",
          "data": {
            "image/png": "[encoded data removed]",
            "text/plain": [
              "<Figure size 1584x720 with 1 Axes>"
            ]
          },
          "metadata": {
            "tags": []
          }
        }
      ]
    },
    {
      "cell_type": "code",
      "metadata": {
        "colab": {
          "base_uri": "https://localhost:8080/",
          "height": 628
        },
        "id": "PA9mg5h0ONZt",
        "outputId": "9103e1f3-27f2-4bd7-cf7d-330d04b3c408"
      },
      "source": [
        "plt.figure(figsize=(22, 10))\n",
        "sns.countplot(x='Prodnrkurz', order = sales_df.value_counts(sales_df['Prodnrkurz']).iloc[:10].index, data = sales_df)"
      ],
      "execution_count": 32,
      "outputs": [
        {
          "output_type": "execute_result",
          "data": {
            "text/plain": [
              "<matplotlib.axes._subplots.AxesSubplot at 0x7f2203723908>"
            ]
          },
          "metadata": {
            "tags": []
          },
          "execution_count": 32
        },
        {
          "output_type": "display_data",
          "data": {
            "image/png": "[encoded data removed]",
            "text/plain": [
              "<Figure size 1584x720 with 1 Axes>"
            ]
          },
          "metadata": {
            "tags": []
          }
        }
      ]
    },
    {
      "cell_type": "code",
      "metadata": {
        "colab": {
          "base_uri": "https://localhost:8080/",
          "height": 225
        },
        "id": "qY_-m1NsTmKh",
        "outputId": "9a407025-e01e-45f3-b10c-255e39e198fa"
      },
      "source": [
        "sales_df.head()"
      ],
      "execution_count": 33,
      "outputs": [
        {
          "output_type": "execute_result",
          "data": {
            "text/html": [
              "<div>\n",
              "<style scoped>\n",
              "    .dataframe tbody tr th:only-of-type {\n",
              "        vertical-align: middle;\n",
              "    }\n",
              "\n",
              "    .dataframe tbody tr th {\n",
              "        vertical-align: top;\n",
              "    }\n",
              "\n",
              "    .dataframe thead th {\n",
              "        text-align: right;\n",
              "    }\n",
              "</style>\n",
              "<table border=\"1\" class=\"dataframe\">\n",
              "  <thead>\n",
              "    <tr style=\"text-align: right;\">\n",
              "      <th></th>\n",
              "      <th>Prodnrkurz</th>\n",
              "      <th>KundenNr</th>\n",
              "      <th>postalcode</th>\n",
              "      <th>VersandArt</th>\n",
              "      <th>Geliefert</th>\n",
              "      <th>BestellZeit</th>\n",
              "      <th>BestellTag</th>\n",
              "      <th>Abteilung</th>\n",
              "      <th>month</th>\n",
              "      <th>year</th>\n",
              "    </tr>\n",
              "    <tr>\n",
              "      <th>new_date</th>\n",
              "      <th></th>\n",
              "      <th></th>\n",
              "      <th></th>\n",
              "      <th></th>\n",
              "      <th></th>\n",
              "      <th></th>\n",
              "      <th></th>\n",
              "      <th></th>\n",
              "      <th></th>\n",
              "      <th></th>\n",
              "    </tr>\n",
              "  </thead>\n",
              "  <tbody>\n",
              "    <tr>\n",
              "      <th>2018-12-19</th>\n",
              "      <td>00553</td>\n",
              "      <td>15210.0</td>\n",
              "      <td>NL6461BP</td>\n",
              "      <td>Abholung</td>\n",
              "      <td>1.0</td>\n",
              "      <td>15:31:13</td>\n",
              "      <td>19.12.2018</td>\n",
              "      <td>Export</td>\n",
              "      <td>12</td>\n",
              "      <td>2018</td>\n",
              "    </tr>\n",
              "    <tr>\n",
              "      <th>2018-12-28</th>\n",
              "      <td>OL2339</td>\n",
              "      <td>1400012.0</td>\n",
              "      <td>73614</td>\n",
              "      <td>UPS-Standard</td>\n",
              "      <td>1.0</td>\n",
              "      <td>13:11:16</td>\n",
              "      <td>28.12.2018</td>\n",
              "      <td>Einkauf</td>\n",
              "      <td>12</td>\n",
              "      <td>2018</td>\n",
              "    </tr>\n",
              "    <tr>\n",
              "      <th>2018-12-28</th>\n",
              "      <td>BW2124</td>\n",
              "      <td>10437.0</td>\n",
              "      <td>25337</td>\n",
              "      <td>Night-Star</td>\n",
              "      <td>1.0</td>\n",
              "      <td>13:54:34</td>\n",
              "      <td>28.12.2018</td>\n",
              "      <td>Webshop</td>\n",
              "      <td>12</td>\n",
              "      <td>2018</td>\n",
              "    </tr>\n",
              "    <tr>\n",
              "      <th>2018-12-28</th>\n",
              "      <td>BW2125</td>\n",
              "      <td>10437.0</td>\n",
              "      <td>25337</td>\n",
              "      <td>Night-Star</td>\n",
              "      <td>1.0</td>\n",
              "      <td>13:54:34</td>\n",
              "      <td>28.12.2018</td>\n",
              "      <td>Webshop</td>\n",
              "      <td>12</td>\n",
              "      <td>2018</td>\n",
              "    </tr>\n",
              "    <tr>\n",
              "      <th>2018-12-19</th>\n",
              "      <td>vn5335d</td>\n",
              "      <td>14001.0</td>\n",
              "      <td>52068</td>\n",
              "      <td>Abholung</td>\n",
              "      <td>1.0</td>\n",
              "      <td>08:16:26</td>\n",
              "      <td>19.12.2018</td>\n",
              "      <td>Einkauf_Layout</td>\n",
              "      <td>12</td>\n",
              "      <td>2018</td>\n",
              "    </tr>\n",
              "  </tbody>\n",
              "</table>\n",
              "</div>"
            ],
            "text/plain": [
              "           Prodnrkurz   KundenNr postalcode  ...       Abteilung  month  year\n",
              "new_date                                     ...                             \n",
              "2018-12-19      00553    15210.0   NL6461BP  ...          Export     12  2018\n",
              "2018-12-28     OL2339  1400012.0      73614  ...         Einkauf     12  2018\n",
              "2018-12-28     BW2124    10437.0      25337  ...         Webshop     12  2018\n",
              "2018-12-28     BW2125    10437.0      25337  ...         Webshop     12  2018\n",
              "2018-12-19    vn5335d    14001.0      52068  ...  Einkauf_Layout     12  2018\n",
              "\n",
              "[5 rows x 10 columns]"
            ]
          },
          "metadata": {
            "tags": []
          },
          "execution_count": 33
        }
      ]
    },
    {
      "cell_type": "code",
      "metadata": {
        "colab": {
          "base_uri": "https://localhost:8080/"
        },
        "id": "ApUP5AruarMf",
        "outputId": "941fb9ab-68f0-4831-f65a-0529fc11d134"
      },
      "source": [
        "sales_df.dtypes"
      ],
      "execution_count": 34,
      "outputs": [
        {
          "output_type": "execute_result",
          "data": {
            "text/plain": [
              "Prodnrkurz      object\n",
              "KundenNr        object\n",
              "postalcode      object\n",
              "VersandArt      object\n",
              "Geliefert      float64\n",
              "BestellZeit     object\n",
              "BestellTag      object\n",
              "Abteilung       object\n",
              "month            int64\n",
              "year             int64\n",
              "dtype: object"
            ]
          },
          "metadata": {
            "tags": []
          },
          "execution_count": 34
        }
      ]
    }
  ]
}